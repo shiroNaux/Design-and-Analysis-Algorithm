{
 "cells": [
  {
   "cell_type": "code",
   "execution_count": null,
   "metadata": {},
   "outputs": [],
   "source": [
    "\n",
    "import matplotlib.pyplot as plt \n",
    "import time\n",
    "\n",
    "\n",
    "times = list()\n",
    "number = list()\n",
    "\n",
    "\n",
    "def Fibonacci(n): \n",
    "    if n==0: \n",
    "        return 0\n",
    "    elif n==1: \n",
    "        return 1\n",
    "    else: \n",
    "        return Fibonacci(n-1)+Fibonacci(n-2) \n",
    "    \n",
    "for i in range (0,36,5):\n",
    "    t = 0\n",
    "    for j in range (1,31):\n",
    "        start = time.process_time()\n",
    "        Fibonacci(i)\n",
    "        end = time.process_time()\n",
    "        t += end - start\n",
    "        \n",
    "    number.append(i)\n",
    "    times.append(t/30)\n",
    "plt.ylabel('Thời gian chạy')\n",
    "plt.xlabel('Giá trị của n')\n",
    "plt.grid()\n",
    "plt.plot(number, times, 'ro')\n",
    "for a,b in zip(number, times): \n",
    "    plt.text(a, b, '{0:.4f}'.format(b))\n",
    "plt.show()\n"
   ]
  },
  {
   "cell_type": "code",
   "execution_count": 6,
   "metadata": {},
   "outputs": [
    {
     "data": {
      "text/plain": [
       "'3.42'"
      ]
     },
     "execution_count": 6,
     "metadata": {},
     "output_type": "execute_result"
    }
   ],
   "source": [
    "'{0:.2f}'.format(3.4243)"
   ]
  },
  {
   "cell_type": "code",
   "execution_count": null,
   "metadata": {},
   "outputs": [],
   "source": []
  }
 ],
 "metadata": {
  "kernelspec": {
   "display_name": "Python 3",
   "language": "python",
   "name": "python3"
  },
  "language_info": {
   "codemirror_mode": {
    "name": "ipython",
    "version": 3
   },
   "file_extension": ".py",
   "mimetype": "text/x-python",
   "name": "python",
   "nbconvert_exporter": "python",
   "pygments_lexer": "ipython3",
   "version": "3.7.4"
  }
 },
 "nbformat": 4,
 "nbformat_minor": 2
}
