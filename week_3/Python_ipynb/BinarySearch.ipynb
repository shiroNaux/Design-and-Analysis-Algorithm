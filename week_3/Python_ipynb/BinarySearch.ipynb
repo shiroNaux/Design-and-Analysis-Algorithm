{
 "cells": [
  {
   "cell_type": "code",
   "execution_count": null,
   "metadata": {},
   "outputs": [],
   "source": [
    "import matplotlib.pyplot as plt\n",
    "import time\n",
    "\n",
    "def binarySearch (arr, left, right, x): \n",
    "\n",
    "    if right >= left: \n",
    "        mid = left + (right - left) // 2\n",
    "        if arr[mid] == x: \n",
    "            return mid\n",
    "        elif arr[mid] > x: \n",
    "            return binarySearch(arr, left, mid-1, x) \n",
    "        else: \n",
    "            return binarySearch(arr, mid + 1, right, x) \n",
    "    else: \n",
    "        return -1\n",
    "\n",
    "    \n",
    "numbers = list() \n",
    "times = list() \n",
    "\n",
    "for i in range(1,11): \n",
    "    t = 0;\n",
    "#     for j in range(1,31):\n",
    "    a = list(range(1,10000000 * i + 1))\n",
    "    start = time.process_time()\n",
    "    result = binarySearch(a, 0, len(a)-1, 1)\n",
    "    end = time.process_time()\n",
    "    t += end - start\n",
    "    \n",
    "    numbers.append(len(a))\n",
    "    times.append(t)\n",
    "    \n",
    "plt.plot(numbers, times) \n",
    "plt.xlabel('Số lượng phần tử trong dãy')\n",
    "plt.ylabel('Thời gian chạy')\n",
    "plt.grid()\n",
    "plt.show()"
   ]
  },
  {
   "cell_type": "code",
   "execution_count": 32,
   "metadata": {},
   "outputs": [
    {
     "data": {
      "text/plain": [
       "0.0"
      ]
     },
     "execution_count": 32,
     "metadata": {},
     "output_type": "execute_result"
    }
   ],
   "source": [
    "times[0]"
   ]
  },
  {
   "cell_type": "code",
   "execution_count": 11,
   "metadata": {},
   "outputs": [
    {
     "data": {
      "text/plain": [
       "[0.0]"
      ]
     },
     "execution_count": 11,
     "metadata": {},
     "output_type": "execute_result"
    }
   ],
   "source": [
    "times"
   ]
  },
  {
   "cell_type": "code",
   "execution_count": null,
   "metadata": {},
   "outputs": [],
   "source": []
  }
 ],
 "metadata": {
  "kernelspec": {
   "display_name": "Python 3",
   "language": "python",
   "name": "python3"
  },
  "language_info": {
   "codemirror_mode": {
    "name": "ipython",
    "version": 3
   },
   "file_extension": ".py",
   "mimetype": "text/x-python",
   "name": "python",
   "nbconvert_exporter": "python",
   "pygments_lexer": "ipython3",
   "version": "3.7.4"
  }
 },
 "nbformat": 4,
 "nbformat_minor": 2
}
