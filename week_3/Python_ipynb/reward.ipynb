{
 "cells": [
  {
   "cell_type": "code",
   "execution_count": 3,
   "metadata": {},
   "outputs": [
    {
     "data": {
      "text/plain": [
       "[1, 2, 3, 4, 5, 6, 7, 8, 9]"
      ]
     },
     "execution_count": 3,
     "metadata": {},
     "output_type": "execute_result"
    }
   ],
   "source": [
    "a = list(range(1,10))\n",
    "a"
   ]
  },
  {
   "cell_type": "code",
   "execution_count": 1,
   "metadata": {},
   "outputs": [],
   "source": [
    "def reward(m,n):\n",
    "    if(m == 0 or n == 1 or m == 1):\n",
    "        return 1;\n",
    "    elif (n == 0):\n",
    "        return 0;\n",
    "    elif ( m < n ):\n",
    "        return reward(m,m)\n",
    "    else:\n",
    "        return reward(m, n-1) + reward(m - n,n)"
   ]
  },
  {
   "cell_type": "code",
   "execution_count": 9,
   "metadata": {},
   "outputs": [],
   "source": [
    "a = reward(7,4)"
   ]
  },
  {
   "cell_type": "code",
   "execution_count": 10,
   "metadata": {},
   "outputs": [
    {
     "data": {
      "text/plain": [
       "11"
      ]
     },
     "execution_count": 10,
     "metadata": {},
     "output_type": "execute_result"
    }
   ],
   "source": [
    "a"
   ]
  },
  {
   "cell_type": "code",
   "execution_count": 11,
   "metadata": {},
   "outputs": [],
   "source": [
    "b = reward(6,4)"
   ]
  },
  {
   "cell_type": "code",
   "execution_count": 12,
   "metadata": {},
   "outputs": [
    {
     "data": {
      "text/plain": [
       "9"
      ]
     },
     "execution_count": 12,
     "metadata": {},
     "output_type": "execute_result"
    }
   ],
   "source": [
    "b"
   ]
  },
  {
   "cell_type": "code",
   "execution_count": 2,
   "metadata": {},
   "outputs": [],
   "source": [
    "def part(m,n,x):\n",
    "    if(m == 0 or n == 1 or m == 1):\n",
    "        return 1;\n",
    "    else:\n",
    "        y = 0\n",
    "        a = m // n\n",
    "        for i in range(x, a + 1, 1):\n",
    "            y += part(m - i,n - 1,i)\n",
    "        \n",
    "        return y"
   ]
  },
  {
   "cell_type": "code",
   "execution_count": 14,
   "metadata": {},
   "outputs": [],
   "source": [
    "\n",
    "\n",
    "import time\n",
    "import matplotlib.pyplot as plt "
   ]
  },
  {
   "cell_type": "code",
   "execution_count": 21,
   "metadata": {},
   "outputs": [
    {
     "data": {
      "image/png": "[encoded data removed]",
      "text/plain": [
       "<Figure size 432x288 with 1 Axes>"
      ]
     },
     "metadata": {
      "needs_background": "light"
     },
     "output_type": "display_data"
    }
   ],
   "source": [
    "elements = list()\n",
    "times = list()\n",
    "\n",
    "for i in range(100,1001,50):\n",
    "    start = time.process_time()\n",
    "    reward(i,5)\n",
    "    end = time.process_time()\n",
    "    times.append(end - start)\n",
    "    elements.append(i)\n",
    "    \n",
    "plt.plot(elements, times)\n",
    "plt.grid()\n",
    "plt.show()"
   ]
  },
  {
   "cell_type": "code",
   "execution_count": 11,
   "metadata": {},
   "outputs": [],
   "source": [
    "a = part(100,5,0)"
   ]
  },
  {
   "cell_type": "code",
   "execution_count": 12,
   "metadata": {},
   "outputs": [
    {
     "data": {
      "text/plain": [
       "46262"
      ]
     },
     "execution_count": 12,
     "metadata": {},
     "output_type": "execute_result"
    }
   ],
   "source": [
    "b"
   ]
  },
  {
   "cell_type": "code",
   "execution_count": 13,
   "metadata": {},
   "outputs": [
    {
     "data": {
      "text/plain": [
       "46262"
      ]
     },
     "execution_count": 13,
     "metadata": {},
     "output_type": "execute_result"
    }
   ],
   "source": [
    "a"
   ]
  },
  {
   "cell_type": "code",
   "execution_count": 31,
   "metadata": {
    "scrolled": true
   },
   "outputs": [
    {
     "data": {
      "image/png": "[encoded data removed]",
      "text/plain": [
       "<Figure size 432x288 with 2 Axes>"
      ]
     },
     "metadata": {
      "needs_background": "light"
     },
     "output_type": "display_data"
    }
   ],
   "source": [
    "import time\n",
    "import matplotlib.pyplot as plt\n",
    "\n",
    "numbers_5 = list()\n",
    "times_5 = list()\n",
    "\n",
    "numbers_3 = list()\n",
    "times_3 = list()\n",
    "\n",
    "for i in range(100,1001,50):\n",
    "    start = time.process_time()\n",
    "    part(i,5,0)\n",
    "    end = time.process_time()\n",
    "    times_5.append(end - start)\n",
    "    numbers_5.append(i)\n",
    "    \n",
    "for i in range(100,1001,50):\n",
    "    start = time.process_time()\n",
    "    part(i,5,0)\n",
    "    end = time.process_time()\n",
    "    times_3.append(end - start)\n",
    "    numbers_3.append(i)\n",
    "    \n",
    "plt.subplot(1, 2, 1)\n",
    "plt.plot(numbers_5, times_5, 'g')\n",
    "plt.grid()\n",
    "plt.xlabel('Giá trị của m')\n",
    "plt.ylabel('Thời gian chạy(s)')\n",
    "plt.title('n = 5')\n",
    "plt.tight_layout()\n",
    "\n",
    "plt.subplot(1, 2, 2)\n",
    "plt.plot(numbers_3, times_3, 'b')\n",
    "plt.grid()\n",
    "plt.xlabel('Giá trị của m')\n",
    "plt.ylabel('Thời gian chạy(s)')\n",
    "plt.title('n = 3')\n",
    "plt.tight_layout()"
   ]
  },
  {
   "cell_type": "code",
   "execution_count": 24,
   "metadata": {
    "scrolled": false
   },
   "outputs": [
    {
     "data": {
      "text/plain": [
       "[0.015625,\n",
       " 0.046875,\n",
       " 0.1875,\n",
       " 0.40625,\n",
       " 0.828125,\n",
       " 1.59375,\n",
       " 2.640625,\n",
       " 4.03125,\n",
       " 6.875,\n",
       " 9.28125,\n",
       " 13.28125,\n",
       " 18.40625,\n",
       " 26.28125,\n",
       " 36.421875,\n",
       " 45.71875,\n",
       " 59.75,\n",
       " 75.3125,\n",
       " 98.75,\n",
       " 114.234375]"
      ]
     },
     "execution_count": 24,
     "metadata": {},
     "output_type": "execute_result"
    }
   ],
   "source": [
    "times"
   ]
  },
  {
   "cell_type": "code",
   "execution_count": 21,
   "metadata": {},
   "outputs": [
    {
     "name": "stdout",
     "output_type": "stream",
     "text": [
      "10.078125\n"
     ]
    }
   ],
   "source": [
    "start = time.process_time()\n",
    "part(120,10,0)\n",
    "end = time.process_time()\n",
    "abc = end - start\n",
    "print(abc)"
   ]
  },
  {
   "cell_type": "code",
   "execution_count": 14,
   "metadata": {},
   "outputs": [
    {
     "data": {
      "text/plain": [
       "0.09375"
      ]
     },
     "execution_count": 14,
     "metadata": {},
     "output_type": "execute_result"
    }
   ],
   "source": [
    "abc"
   ]
  },
  {
   "cell_type": "code",
   "execution_count": null,
   "metadata": {},
   "outputs": [],
   "source": []
  }
 ],
 "metadata": {
  "kernelspec": {
   "display_name": "Python 3",
   "language": "python",
   "name": "python3"
  },
  "language_info": {
   "codemirror_mode": {
    "name": "ipython",
    "version": 3
   },
   "file_extension": ".py",
   "mimetype": "text/x-python",
   "name": "python",
   "nbconvert_exporter": "python",
   "pygments_lexer": "ipython3",
   "version": "3.7.4"
  }
 },
 "nbformat": 4,
 "nbformat_minor": 2
}
