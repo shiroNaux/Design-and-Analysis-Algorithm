{
 "cells": [
  {
   "cell_type": "code",
   "execution_count": 6,
   "metadata": {},
   "outputs": [
    {
     "data": {
      "image/png": "[encoded data removed]",
      "text/plain": [
       "<Figure size 432x288 with 1 Axes>"
      ]
     },
     "metadata": {
      "needs_background": "light"
     },
     "output_type": "display_data"
    }
   ],
   "source": [
    "import matplotlib.pyplot as plt \n",
    "import time\n",
    "\n",
    "number = list()\n",
    "times = list()\n",
    "\n",
    "\n",
    "def HaNoiTower(n , fromDisk, toDisk, tempDisk):\n",
    "    x = 0\n",
    "    if n == 0:\n",
    "        return 0;\n",
    "    if n == 1: \n",
    "        x += 1\n",
    "        return\n",
    "    HaNoiTower(n-1, fromDisk, tempDisk, toDisk) \n",
    "    x += 1\n",
    "    HaNoiTower(n-1, tempDisk, toDisk, fromDisk) \n",
    "\n",
    "for i in range(0,26,5): #Thực hiện với giá trị khác nhau của input\n",
    "    t = 0\n",
    "    for j in range(1,31): # thực hiện 30 lần với mỗi giá trị của n  \n",
    "        start = time.process_time()\n",
    "        HaNoiTower(i, \"A\", \"B\", \"C\")\n",
    "        end = time.process_time()\n",
    "        t += end - start\n",
    "    times.append(t/30)\n",
    "    number.append(i)\n",
    "\n",
    "plt.grid()\n",
    "plt.plot(number,times,'ro')\n",
    "plt.ylabel('Thời gian chạy')\n",
    "plt.xlabel('Giá trị của n')\n",
    "for a,b in zip(number, times): \n",
    "    plt.text(a, b, '{0:.4f}'.format(b))\n",
    "    \n",
    "plt.show()"
   ]
  },
  {
   "cell_type": "code",
   "execution_count": 10,
   "metadata": {},
   "outputs": [
    {
     "name": "stdout",
     "output_type": "stream",
     "text": [
      "[1, 2, 3, 4, 5, 6, 7, 8, 9]\n"
     ]
    }
   ],
   "source": [
    "number = list()\n",
    "for i in range(1,10):\n",
    "    number.append(i)\n",
    "    \n",
    "print(number)"
   ]
  },
  {
   "cell_type": "code",
   "execution_count": null,
   "metadata": {},
   "outputs": [],
   "source": []
  }
 ],
 "metadata": {
  "kernelspec": {
   "display_name": "Python 3",
   "language": "python",
   "name": "python3"
  },
  "language_info": {
   "codemirror_mode": {
    "name": "ipython",
    "version": 3
   },
   "file_extension": ".py",
   "mimetype": "text/x-python",
   "name": "python",
   "nbconvert_exporter": "python",
   "pygments_lexer": "ipython3",
   "version": "3.7.4"
  }
 },
 "nbformat": 4,
 "nbformat_minor": 2
}
