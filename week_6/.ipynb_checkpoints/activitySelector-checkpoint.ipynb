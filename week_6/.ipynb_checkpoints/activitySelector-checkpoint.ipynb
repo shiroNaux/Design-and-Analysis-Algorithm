{
 "cells": [
  {
   "cell_type": "code",
   "execution_count": 4,
   "metadata": {},
   "outputs": [],
   "source": [
    "activity = [[1, 3], [1, 8], [2, 5], [4, 7], [5, 9], [8, 10], [9, 11], [11, 14], [13, 16]]"
   ]
  },
  {
   "cell_type": "code",
   "execution_count": 7,
   "metadata": {},
   "outputs": [
    {
     "data": {
      "text/plain": [
       "list"
      ]
     },
     "execution_count": 7,
     "metadata": {},
     "output_type": "execute_result"
    }
   ],
   "source": [
    "type([1,3])"
   ]
  },
  {
   "cell_type": "code",
   "execution_count": 5,
   "metadata": {},
   "outputs": [],
   "source": [
    "activity.sort(key = lambda x: x[1])"
   ]
  },
  {
   "cell_type": "code",
   "execution_count": 8,
   "metadata": {},
   "outputs": [
    {
     "data": {
      "text/plain": [
       "[[1, 3], [2, 5], [4, 7], [1, 8], [5, 9], [8, 10], [9, 11], [11, 14], [13, 16]]"
      ]
     },
     "execution_count": 8,
     "metadata": {},
     "output_type": "execute_result"
    }
   ],
   "source": [
    "activity"
   ]
  },
  {
   "cell_type": "code",
   "execution_count": null,
   "metadata": {},
   "outputs": [],
   "source": [
    "def selection(arr):\n",
    "    arr.sort(key = lambda x: x[1])\n",
    "    dynamic = [1] * len(arr)\n",
    "    i = 1\n",
    "    maximum = arr[0][1]\n",
    "    sub = 1\n",
    "    while(i < len(arr)):\n",
    "        if arr[i][0] > maximum:\n",
    "            dynamic[i] = sub + 1\n",
    "            sub = dynamic[i]\n",
    "            maximum = arr[i][1]\n",
    "        else:\n",
    "            result = list()\n",
    "            for j in range(0,i):\n",
    "                if array[i][0] > arr[j][1]:\n",
    "                    result.append(dynamic[j])\n",
    "                dynamic[i] = max(result) + 1\n",
    "        \n",
    "        i += 1\n",
    "    return dynamic"
   ]
  }
 ],
 "metadata": {
  "kernelspec": {
   "display_name": "Python 3",
   "language": "python",
   "name": "python3"
  },
  "language_info": {
   "codemirror_mode": {
    "name": "ipython",
    "version": 3
   },
   "file_extension": ".py",
   "mimetype": "text/x-python",
   "name": "python",
   "nbconvert_exporter": "python",
   "pygments_lexer": "ipython3",
   "version": "3.7.4"
  }
 },
 "nbformat": 4,
 "nbformat_minor": 2
}
