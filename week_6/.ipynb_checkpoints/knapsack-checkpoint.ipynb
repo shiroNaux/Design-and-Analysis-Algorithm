{
 "cells": [
  {
   "cell_type": "code",
   "execution_count": 29,
   "metadata": {},
   "outputs": [],
   "source": [
    "def knapsack(value, weight, capacity):\n",
    "\n",
    "    value.insert(0, 0)\n",
    "    weight.insert(0, 0)\n",
    "    \n",
    "    n = len(value) - 1\n",
    " \n",
    "    m = [[0]*(capacity + 1) for _ in range(n + 1)]\n",
    " \n",
    "    for w in range(capacity + 1):\n",
    "        m[0][w] = 0\n",
    " \n",
    "    for i in range(1, n + 1):\n",
    "        for w in range(1, capacity + 1):\n",
    "            if weight[i] > w:\n",
    "                m[i][w] = m[i - 1][w]\n",
    "            else:\n",
    "                m[i][w] = max(m[i - 1][w - weight[i]] + value[i], \n",
    "                              m[i - 1][w])\n",
    " \n",
    "    return m"
   ]
  },
  {
   "cell_type": "code",
   "execution_count": 27,
   "metadata": {},
   "outputs": [],
   "source": [
    "va = [3, 2, 2, 1]"
   ]
  },
  {
   "cell_type": "code",
   "execution_count": 28,
   "metadata": {},
   "outputs": [],
   "source": [
    "wei = [2, 1, 2, 1]"
   ]
  },
  {
   "cell_type": "code",
   "execution_count": 30,
   "metadata": {},
   "outputs": [],
   "source": [
    "result = knapsack(va, wei, 4)"
   ]
  },
  {
   "cell_type": "code",
   "execution_count": 32,
   "metadata": {},
   "outputs": [
    {
     "data": {
      "text/plain": [
       "5"
      ]
     },
     "execution_count": 32,
     "metadata": {},
     "output_type": "execute_result"
    }
   ],
   "source": [
    "len(result)"
   ]
  },
  {
   "cell_type": "code",
   "execution_count": 33,
   "metadata": {},
   "outputs": [],
   "source": [
    "back = list()"
   ]
  },
  {
   "cell_type": "code",
   "execution_count": 20,
   "metadata": {},
   "outputs": [
    {
     "data": {
      "text/plain": [
       "True"
      ]
     },
     "execution_count": 20,
     "metadata": {},
     "output_type": "execute_result"
    }
   ],
   "source": [
    "def backward(arr, weight):\n",
    "    m = len(arr) - 1 \n",
    "    n = len(arr[0]) - 1\n",
    "    \n",
    "    while(True):\n",
    "        if arr[m][n] == 0 break\n",
    "        if arr[m][n] == arr[m - 1][n]:\n",
    "            m -= 1\n",
    "            n -= 1\n",
    "        else:\n",
    "            back.append(m)\n",
    "            m -= 1\n",
    "            n = n - weight[m]\n",
    "            "
   ]
  },
  {
   "cell_type": "code",
   "execution_count": null,
   "metadata": {},
   "outputs": [],
   "source": []
  }
 ],
 "metadata": {
  "kernelspec": {
   "display_name": "Python 3",
   "language": "python",
   "name": "python3"
  },
  "language_info": {
   "codemirror_mode": {
    "name": "ipython",
    "version": 3
   },
   "file_extension": ".py",
   "mimetype": "text/x-python",
   "name": "python",
   "nbconvert_exporter": "python",
   "pygments_lexer": "ipython3",
   "version": "3.7.4"
  }
 },
 "nbformat": 4,
 "nbformat_minor": 2
}
