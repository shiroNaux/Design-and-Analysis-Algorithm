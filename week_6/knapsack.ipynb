{
 "cells": [
  {
   "cell_type": "code",
   "execution_count": 45,
   "metadata": {},
   "outputs": [],
   "source": [
    "def knapsack(value, weight, capacity):\n",
    "\n",
    "    value.insert(0, 0)\n",
    "    weight.insert(0, 0)\n",
    "    \n",
    "    n = len(value) - 1\n",
    " \n",
    "    m = [[0]*(capacity + 1) for _ in range(n + 1)]\n",
    " \n",
    "    for w in range(capacity + 1):\n",
    "        m[0][w] = 0\n",
    " \n",
    "    for i in range(1, n + 1):\n",
    "        for w in range(1, capacity + 1):\n",
    "            if weight[i] > w:\n",
    "                m[i][w] = m[i - 1][w]\n",
    "            else:\n",
    "                m[i][w] = max(m[i - 1][w - weight[i]] + value[i], \n",
    "                              m[i - 1][w])\n",
    " \n",
    "    return m"
   ]
  },
  {
   "cell_type": "code",
   "execution_count": 43,
   "metadata": {},
   "outputs": [],
   "source": [
    "va = [3, 2, 2, 1]"
   ]
  },
  {
   "cell_type": "code",
   "execution_count": 44,
   "metadata": {},
   "outputs": [],
   "source": [
    "wei = [2, 1, 2, 1]"
   ]
  },
  {
   "cell_type": "code",
   "execution_count": 46,
   "metadata": {},
   "outputs": [],
   "source": [
    "result = knapsack(va, wei, 4)"
   ]
  },
  {
   "cell_type": "code",
   "execution_count": 47,
   "metadata": {},
   "outputs": [
    {
     "data": {
      "text/plain": [
       "[[0, 0, 0, 0, 0],\n",
       " [0, 0, 3, 3, 3],\n",
       " [0, 2, 3, 5, 5],\n",
       " [0, 2, 3, 5, 5],\n",
       " [0, 2, 3, 5, 6]]"
      ]
     },
     "execution_count": 47,
     "metadata": {},
     "output_type": "execute_result"
    }
   ],
   "source": [
    "result"
   ]
  },
  {
   "cell_type": "code",
   "execution_count": 50,
   "metadata": {},
   "outputs": [],
   "source": [
    "back = list()"
   ]
  },
  {
   "cell_type": "code",
   "execution_count": 35,
   "metadata": {},
   "outputs": [],
   "source": [
    "def backward(arr, weight):\n",
    "    m = len(arr) - 1 \n",
    "    n = len(arr[0]) - 1\n",
    "    \n",
    "    while(True):\n",
    "        if arr[m][n] == 0:\n",
    "            break\n",
    "        if arr[m][n] == arr[m - 1][n]:\n",
    "            m -= 1\n",
    "            n -= 1\n",
    "        else:\n",
    "            back.append(m)\n",
    "            m -= 1\n",
    "            n = n - weight[m]"
   ]
  },
  {
   "cell_type": "code",
   "execution_count": 51,
   "metadata": {},
   "outputs": [],
   "source": [
    "r = backward(result, wei)"
   ]
  },
  {
   "cell_type": "code",
   "execution_count": 52,
   "metadata": {},
   "outputs": [
    {
     "data": {
      "text/plain": [
       "[4, 2, 1]"
      ]
     },
     "execution_count": 52,
     "metadata": {},
     "output_type": "execute_result"
    }
   ],
   "source": [
    "back"
   ]
  },
  {
   "cell_type": "code",
   "execution_count": null,
   "metadata": {},
   "outputs": [],
   "source": []
  }
 ],
 "metadata": {
  "kernelspec": {
   "display_name": "Python 3",
   "language": "python",
   "name": "python3"
  },
  "language_info": {
   "codemirror_mode": {
    "name": "ipython",
    "version": 3
   },
   "file_extension": ".py",
   "mimetype": "text/x-python",
   "name": "python",
   "nbconvert_exporter": "python",
   "pygments_lexer": "ipython3",
   "version": "3.7.4"
  }
 },
 "nbformat": 4,
 "nbformat_minor": 2
}
